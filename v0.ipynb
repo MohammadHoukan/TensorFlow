{
 "cells": [
  {
   "cell_type": "code",
   "execution_count": 1,
   "outputs": [
    {
     "name": "stdout",
     "output_type": "stream",
     "text": [
      "Requirement already satisfied: uncertainty_wizard==0.2.0 in c:\\users\\gf\\pycharmprojects\\pythonproject1\\venv\\lib\\site-packages (0.2.0)"
     ]
    },
    {
     "name": "stderr",
     "output_type": "stream",
     "text": [
      "WARNING: You are using pip version 21.3.1; however, version 22.1.2 is available.\n",
      "You should consider upgrading via the 'C:\\Users\\GF\\PycharmProjects\\pythonProject1\\venv\\Scripts\\python.exe -m pip install --upgrade pip' command.\n"
     ]
    },
    {
     "name": "stdout",
     "output_type": "stream",
     "text": [
      "\n",
      "Requirement already satisfied: seaborn==0.11.2 in c:\\users\\gf\\pycharmprojects\\pythonproject1\\venv\\lib\\site-packages (0.11.2)\n",
      "Requirement already satisfied: pandas>=0.23 in c:\\users\\gf\\pycharmprojects\\pythonproject1\\venv\\lib\\site-packages (from seaborn==0.11.2) (1.4.0)\n",
      "Requirement already satisfied: matplotlib>=2.2 in c:\\users\\gf\\pycharmprojects\\pythonproject1\\venv\\lib\\site-packages (from seaborn==0.11.2) (3.3.4)\n",
      "Requirement already satisfied: numpy>=1.15 in c:\\users\\gf\\pycharmprojects\\pythonproject1\\venv\\lib\\site-packages (from seaborn==0.11.2) (1.19.5)\n",
      "Requirement already satisfied: scipy>=1.0 in c:\\users\\gf\\pycharmprojects\\pythonproject1\\venv\\lib\\site-packages (from seaborn==0.11.2) (1.6.2)\n",
      "Requirement already satisfied: kiwisolver>=1.0.1 in c:\\users\\gf\\pycharmprojects\\pythonproject1\\venv\\lib\\site-packages (from matplotlib>=2.2->seaborn==0.11.2) (1.4.3)\n",
      "Requirement already satisfied: cycler>=0.10 in c:\\users\\gf\\pycharmprojects\\pythonproject1\\venv\\lib\\site-packages (from matplotlib>=2.2->seaborn==0.11.2) (0.11.0)\n",
      "Requirement already satisfied: python-dateutil>=2.1 in c:\\users\\gf\\pycharmprojects\\pythonproject1\\venv\\lib\\site-packages (from matplotlib>=2.2->seaborn==0.11.2) (2.8.2)\n",
      "Requirement already satisfied: pyparsing!=2.0.4,!=2.1.2,!=2.1.6,>=2.0.3 in c:\\users\\gf\\pycharmprojects\\pythonproject1\\venv\\lib\\site-packages (from matplotlib>=2.2->seaborn==0.11.2) (3.0.9)\n",
      "Requirement already satisfied: pillow>=6.2.0 in c:\\users\\gf\\pycharmprojects\\pythonproject1\\venv\\lib\\site-packages (from matplotlib>=2.2->seaborn==0.11.2) (9.2.0)\n",
      "Requirement already satisfied: pytz>=2020.1 in c:\\users\\gf\\pycharmprojects\\pythonproject1\\venv\\lib\\site-packages (from pandas>=0.23->seaborn==0.11.2) (2022.1)\n",
      "Requirement already satisfied: six>=1.5 in c:\\users\\gf\\pycharmprojects\\pythonproject1\\venv\\lib\\site-packages (from python-dateutil>=2.1->matplotlib>=2.2->seaborn==0.11.2) (1.16.0)\n"
     ]
    },
    {
     "name": "stderr",
     "output_type": "stream",
     "text": [
      "WARNING: You are using pip version 21.3.1; however, version 22.1.2 is available.\n",
      "You should consider upgrading via the 'C:\\Users\\GF\\PycharmProjects\\pythonProject1\\venv\\Scripts\\python.exe -m pip install --upgrade pip' command.\n"
     ]
    },
    {
     "name": "stdout",
     "output_type": "stream",
     "text": [
      "Collecting pymoo==0.4.2.2\n",
      "  Using cached pymoo-0.4.2.2-cp39-cp39-win_amd64.whl (4.2 MB)\n",
      "Requirement already satisfied: matplotlib>=3 in c:\\users\\gf\\pycharmprojects\\pythonproject1\\venv\\lib\\site-packages (from pymoo==0.4.2.2) (3.3.4)\n",
      "Requirement already satisfied: cma==2.7 in c:\\users\\gf\\pycharmprojects\\pythonproject1\\venv\\lib\\site-packages (from pymoo==0.4.2.2) (2.7.0)\n",
      "Requirement already satisfied: autograd>=1.3 in c:\\users\\gf\\pycharmprojects\\pythonproject1\\venv\\lib\\site-packages (from pymoo==0.4.2.2) (1.4)\n",
      "Requirement already satisfied: numpy>=1.15 in c:\\users\\gf\\pycharmprojects\\pythonproject1\\venv\\lib\\site-packages (from pymoo==0.4.2.2) (1.19.5)\n",
      "Requirement already satisfied: scipy>=1.1 in c:\\users\\gf\\pycharmprojects\\pythonproject1\\venv\\lib\\site-packages (from pymoo==0.4.2.2) (1.6.2)\n",
      "Requirement already satisfied: future>=0.15.2 in c:\\users\\gf\\pycharmprojects\\pythonproject1\\venv\\lib\\site-packages (from autograd>=1.3->pymoo==0.4.2.2) (0.18.2)\n",
      "Requirement already satisfied: python-dateutil>=2.1 in c:\\users\\gf\\pycharmprojects\\pythonproject1\\venv\\lib\\site-packages (from matplotlib>=3->pymoo==0.4.2.2) (2.8.2)\n",
      "Requirement already satisfied: pyparsing!=2.0.4,!=2.1.2,!=2.1.6,>=2.0.3 in c:\\users\\gf\\pycharmprojects\\pythonproject1\\venv\\lib\\site-packages (from matplotlib>=3->pymoo==0.4.2.2) (3.0.9)\n",
      "Requirement already satisfied: cycler>=0.10 in c:\\users\\gf\\pycharmprojects\\pythonproject1\\venv\\lib\\site-packages (from matplotlib>=3->pymoo==0.4.2.2) (0.11.0)\n",
      "Requirement already satisfied: pillow>=6.2.0 in c:\\users\\gf\\pycharmprojects\\pythonproject1\\venv\\lib\\site-packages (from matplotlib>=3->pymoo==0.4.2.2) (9.2.0)\n",
      "Requirement already satisfied: kiwisolver>=1.0.1 in c:\\users\\gf\\pycharmprojects\\pythonproject1\\venv\\lib\\site-packages (from matplotlib>=3->pymoo==0.4.2.2) (1.4.3)\n",
      "Requirement already satisfied: six>=1.5 in c:\\users\\gf\\pycharmprojects\\pythonproject1\\venv\\lib\\site-packages (from python-dateutil>=2.1->matplotlib>=3->pymoo==0.4.2.2) (1.16.0)\n",
      "Installing collected packages: pymoo\n",
      "  Attempting uninstall: pymoo\n",
      "    Found existing installation: pymoo 0.4.0\n",
      "    Uninstalling pymoo-0.4.0:\n",
      "      Successfully uninstalled pymoo-0.4.0\n",
      "Successfully installed pymoo-0.4.2.2\n"
     ]
    },
    {
     "name": "stderr",
     "output_type": "stream",
     "text": [
      "WARNING: You are using pip version 21.3.1; however, version 22.1.2 is available.\n",
      "You should consider upgrading via the 'C:\\Users\\GF\\PycharmProjects\\pythonProject1\\venv\\Scripts\\python.exe -m pip install --upgrade pip' command.\n"
     ]
    },
    {
     "name": "stdout",
     "output_type": "stream",
     "text": [
      "Requirement already satisfied: tqdm==4.62.3 in c:\\users\\gf\\pycharmprojects\\pythonproject1\\venv\\lib\\site-packages (4.62.3)\n",
      "Requirement already satisfied: colorama in c:\\users\\gf\\pycharmprojects\\pythonproject1\\venv\\lib\\site-packages (from tqdm==4.62.3) (0.4.5)\n"
     ]
    },
    {
     "name": "stderr",
     "output_type": "stream",
     "text": [
      "WARNING: You are using pip version 21.3.1; however, version 22.1.2 is available.\n",
      "You should consider upgrading via the 'C:\\Users\\GF\\PycharmProjects\\pythonProject1\\venv\\Scripts\\python.exe -m pip install --upgrade pip' command.\n"
     ]
    },
    {
     "name": "stdout",
     "output_type": "stream",
     "text": [
      "Requirement already satisfied: matplotlib==3.3.4 in c:\\users\\gf\\pycharmprojects\\pythonproject1\\venv\\lib\\site-packages (3.3.4)\n",
      "Requirement already satisfied: python-dateutil>=2.1 in c:\\users\\gf\\pycharmprojects\\pythonproject1\\venv\\lib\\site-packages (from matplotlib==3.3.4) (2.8.2)\n",
      "Requirement already satisfied: cycler>=0.10 in c:\\users\\gf\\pycharmprojects\\pythonproject1\\venv\\lib\\site-packages (from matplotlib==3.3.4) (0.11.0)\n",
      "Requirement already satisfied: pyparsing!=2.0.4,!=2.1.2,!=2.1.6,>=2.0.3 in c:\\users\\gf\\pycharmprojects\\pythonproject1\\venv\\lib\\site-packages (from matplotlib==3.3.4) (3.0.9)\n",
      "Requirement already satisfied: pillow>=6.2.0 in c:\\users\\gf\\pycharmprojects\\pythonproject1\\venv\\lib\\site-packages (from matplotlib==3.3.4) (9.2.0)\n",
      "Requirement already satisfied: kiwisolver>=1.0.1 in c:\\users\\gf\\pycharmprojects\\pythonproject1\\venv\\lib\\site-packages (from matplotlib==3.3.4) (1.4.3)\n",
      "Requirement already satisfied: numpy>=1.15 in c:\\users\\gf\\pycharmprojects\\pythonproject1\\venv\\lib\\site-packages (from matplotlib==3.3.4) (1.19.5)\n",
      "Requirement already satisfied: six>=1.5 in c:\\users\\gf\\pycharmprojects\\pythonproject1\\venv\\lib\\site-packages (from python-dateutil>=2.1->matplotlib==3.3.4) (1.16.0)\n"
     ]
    },
    {
     "name": "stderr",
     "output_type": "stream",
     "text": [
      "WARNING: You are using pip version 21.3.1; however, version 22.1.2 is available.\n",
      "You should consider upgrading via the 'C:\\Users\\GF\\PycharmProjects\\pythonProject1\\venv\\Scripts\\python.exe -m pip install --upgrade pip' command.\n"
     ]
    },
    {
     "name": "stdout",
     "output_type": "stream",
     "text": [
      "Requirement already satisfied: plot_keras_history==1.1.29 in c:\\users\\gf\\pycharmprojects\\pythonproject1\\venv\\lib\\site-packages (1.1.29)\n",
      "Requirement already satisfied: sanitize-ml-labels in c:\\users\\gf\\pycharmprojects\\pythonproject1\\venv\\lib\\site-packages (from plot_keras_history==1.1.29) (1.0.43)\n",
      "Requirement already satisfied: pandas in c:\\users\\gf\\pycharmprojects\\pythonproject1\\venv\\lib\\site-packages (from plot_keras_history==1.1.29) (1.4.0)\n",
      "Requirement already satisfied: scipy in c:\\users\\gf\\pycharmprojects\\pythonproject1\\venv\\lib\\site-packages (from plot_keras_history==1.1.29) (1.6.2)\n",
      "Requirement already satisfied: matplotlib in c:\\users\\gf\\pycharmprojects\\pythonproject1\\venv\\lib\\site-packages (from plot_keras_history==1.1.29) (3.3.4)\n",
      "Requirement already satisfied: numpy>=1.15 in c:\\users\\gf\\pycharmprojects\\pythonproject1\\venv\\lib\\site-packages (from matplotlib->plot_keras_history==1.1.29) (1.19.5)\n",
      "Requirement already satisfied: python-dateutil>=2.1 in c:\\users\\gf\\pycharmprojects\\pythonproject1\\venv\\lib\\site-packages (from matplotlib->plot_keras_history==1.1.29) (2.8.2)\n",
      "Requirement already satisfied: kiwisolver>=1.0.1 in c:\\users\\gf\\pycharmprojects\\pythonproject1\\venv\\lib\\site-packages (from matplotlib->plot_keras_history==1.1.29) (1.4.3)\n",
      "Requirement already satisfied: pillow>=6.2.0 in c:\\users\\gf\\pycharmprojects\\pythonproject1\\venv\\lib\\site-packages (from matplotlib->plot_keras_history==1.1.29) (9.2.0)\n",
      "Requirement already satisfied: cycler>=0.10 in c:\\users\\gf\\pycharmprojects\\pythonproject1\\venv\\lib\\site-packages (from matplotlib->plot_keras_history==1.1.29) (0.11.0)\n",
      "Requirement already satisfied: pyparsing!=2.0.4,!=2.1.2,!=2.1.6,>=2.0.3 in c:\\users\\gf\\pycharmprojects\\pythonproject1\\venv\\lib\\site-packages (from matplotlib->plot_keras_history==1.1.29) (3.0.9)\n",
      "Requirement already satisfied: pytz>=2020.1 in c:\\users\\gf\\pycharmprojects\\pythonproject1\\venv\\lib\\site-packages (from pandas->plot_keras_history==1.1.29) (2022.1)\n",
      "Requirement already satisfied: compress-json in c:\\users\\gf\\pycharmprojects\\pythonproject1\\venv\\lib\\site-packages (from sanitize-ml-labels->plot_keras_history==1.1.29) (1.0.7)\n",
      "Requirement already satisfied: six>=1.5 in c:\\users\\gf\\pycharmprojects\\pythonproject1\\venv\\lib\\site-packages (from python-dateutil>=2.1->matplotlib->plot_keras_history==1.1.29) (1.16.0)\n"
     ]
    },
    {
     "name": "stderr",
     "output_type": "stream",
     "text": [
      "WARNING: You are using pip version 21.3.1; however, version 22.1.2 is available.\n",
      "You should consider upgrading via the 'C:\\Users\\GF\\PycharmProjects\\pythonProject1\\venv\\Scripts\\python.exe -m pip install --upgrade pip' command.\n"
     ]
    },
    {
     "name": "stdout",
     "output_type": "stream",
     "text": [
      "Requirement already satisfied: numpy==1.19.5 in c:\\users\\gf\\pycharmprojects\\pythonproject1\\venv\\lib\\site-packages (1.19.5)\n"
     ]
    },
    {
     "name": "stderr",
     "output_type": "stream",
     "text": [
      "WARNING: You are using pip version 21.3.1; however, version 22.1.2 is available.\n",
      "You should consider upgrading via the 'C:\\Users\\GF\\PycharmProjects\\pythonProject1\\venv\\Scripts\\python.exe -m pip install --upgrade pip' command.\n"
     ]
    },
    {
     "name": "stdout",
     "output_type": "stream",
     "text": [
      "Requirement already satisfied: cleverhans==4.0.0 in c:\\users\\gf\\pycharmprojects\\pythonproject1\\venv\\lib\\site-packages (4.0.0)\n",
      "Requirement already satisfied: easydict in c:\\users\\gf\\pycharmprojects\\pythonproject1\\venv\\lib\\site-packages (from cleverhans==4.0.0) (1.9)\n",
      "Requirement already satisfied: mnist in c:\\users\\gf\\pycharmprojects\\pythonproject1\\venv\\lib\\site-packages (from cleverhans==4.0.0) (0.2.2)\n",
      "Requirement already satisfied: matplotlib in c:\\users\\gf\\pycharmprojects\\pythonproject1\\venv\\lib\\site-packages (from cleverhans==4.0.0) (3.3.4)\n",
      "Requirement already satisfied: joblib in c:\\users\\gf\\pycharmprojects\\pythonproject1\\venv\\lib\\site-packages (from cleverhans==4.0.0) (1.1.0)\n",
      "Requirement already satisfied: six in c:\\users\\gf\\pycharmprojects\\pythonproject1\\venv\\lib\\site-packages (from cleverhans==4.0.0) (1.16.0)\n",
      "Requirement already satisfied: nose in c:\\users\\gf\\pycharmprojects\\pythonproject1\\venv\\lib\\site-packages (from cleverhans==4.0.0) (1.3.7)\n",
      "Requirement already satisfied: scipy in c:\\users\\gf\\pycharmprojects\\pythonproject1\\venv\\lib\\site-packages (from cleverhans==4.0.0) (1.6.2)\n",
      "Requirement already satisfied: pycodestyle in c:\\users\\gf\\pycharmprojects\\pythonproject1\\venv\\lib\\site-packages (from cleverhans==4.0.0) (2.8.0)\n",
      "Requirement already satisfied: numpy in c:\\users\\gf\\pycharmprojects\\pythonproject1\\venv\\lib\\site-packages (from cleverhans==4.0.0) (1.19.5)\n",
      "Requirement already satisfied: absl-py in c:\\users\\gf\\pycharmprojects\\pythonproject1\\venv\\lib\\site-packages (from cleverhans==4.0.0) (1.1.0)\n",
      "Requirement already satisfied: tensorflow-probability in c:\\users\\gf\\pycharmprojects\\pythonproject1\\venv\\lib\\site-packages (from cleverhans==4.0.0) (0.17.0)\n",
      "Requirement already satisfied: cycler>=0.10 in c:\\users\\gf\\pycharmprojects\\pythonproject1\\venv\\lib\\site-packages (from matplotlib->cleverhans==4.0.0) (0.11.0)\n",
      "Requirement already satisfied: pillow>=6.2.0 in c:\\users\\gf\\pycharmprojects\\pythonproject1\\venv\\lib\\site-packages (from matplotlib->cleverhans==4.0.0) (9.2.0)\n",
      "Requirement already satisfied: kiwisolver>=1.0.1 in c:\\users\\gf\\pycharmprojects\\pythonproject1\\venv\\lib\\site-packages (from matplotlib->cleverhans==4.0.0) (1.4.3)\n",
      "Requirement already satisfied: python-dateutil>=2.1 in c:\\users\\gf\\pycharmprojects\\pythonproject1\\venv\\lib\\site-packages (from matplotlib->cleverhans==4.0.0) (2.8.2)\n",
      "Requirement already satisfied: pyparsing!=2.0.4,!=2.1.2,!=2.1.6,>=2.0.3 in c:\\users\\gf\\pycharmprojects\\pythonproject1\\venv\\lib\\site-packages (from matplotlib->cleverhans==4.0.0) (3.0.9)\n",
      "Requirement already satisfied: dm-tree in c:\\users\\gf\\pycharmprojects\\pythonproject1\\venv\\lib\\site-packages (from tensorflow-probability->cleverhans==4.0.0) (0.1.7)\n",
      "Requirement already satisfied: gast>=0.3.2 in c:\\users\\gf\\pycharmprojects\\pythonproject1\\venv\\lib\\site-packages (from tensorflow-probability->cleverhans==4.0.0) (0.4.0)\n",
      "Requirement already satisfied: decorator in c:\\users\\gf\\pycharmprojects\\pythonproject1\\venv\\lib\\site-packages (from tensorflow-probability->cleverhans==4.0.0) (5.1.1)\n",
      "Requirement already satisfied: cloudpickle>=1.3 in c:\\users\\gf\\pycharmprojects\\pythonproject1\\venv\\lib\\site-packages (from tensorflow-probability->cleverhans==4.0.0) (2.1.0)\n"
     ]
    },
    {
     "name": "stderr",
     "output_type": "stream",
     "text": [
      "WARNING: You are using pip version 21.3.1; however, version 22.1.2 is available.\n",
      "You should consider upgrading via the 'C:\\Users\\GF\\PycharmProjects\\pythonProject1\\venv\\Scripts\\python.exe -m pip install --upgrade pip' command.\n"
     ]
    },
    {
     "name": "stdout",
     "output_type": "stream",
     "text": [
      "Requirement already satisfied: pandas_stubs==1.2.0.35 in c:\\users\\gf\\pycharmprojects\\pythonproject1\\venv\\lib\\site-packages (1.2.0.35)\n"
     ]
    },
    {
     "name": "stderr",
     "output_type": "stream",
     "text": [
      "WARNING: You are using pip version 21.3.1; however, version 22.1.2 is available.\n",
      "You should consider upgrading via the 'C:\\Users\\GF\\PycharmProjects\\pythonProject1\\venv\\Scripts\\python.exe -m pip install --upgrade pip' command.\n"
     ]
    },
    {
     "name": "stdout",
     "output_type": "stream",
     "text": [
      "Requirement already satisfied: pandas==1.4.0 in c:\\users\\gf\\pycharmprojects\\pythonproject1\\venv\\lib\\site-packages (1.4.0)\n",
      "Requirement already satisfied: numpy>=1.18.5 in c:\\users\\gf\\pycharmprojects\\pythonproject1\\venv\\lib\\site-packages (from pandas==1.4.0) (1.19.5)\n",
      "Requirement already satisfied: pytz>=2020.1 in c:\\users\\gf\\pycharmprojects\\pythonproject1\\venv\\lib\\site-packages (from pandas==1.4.0) (2022.1)\n",
      "Requirement already satisfied: python-dateutil>=2.8.1 in c:\\users\\gf\\pycharmprojects\\pythonproject1\\venv\\lib\\site-packages (from pandas==1.4.0) (2.8.2)\n",
      "Requirement already satisfied: six>=1.5 in c:\\users\\gf\\pycharmprojects\\pythonproject1\\venv\\lib\\site-packages (from python-dateutil>=2.8.1->pandas==1.4.0) (1.16.0)\n"
     ]
    },
    {
     "name": "stderr",
     "output_type": "stream",
     "text": [
      "WARNING: You are using pip version 21.3.1; however, version 22.1.2 is available.\n",
      "You should consider upgrading via the 'C:\\Users\\GF\\PycharmProjects\\pythonProject1\\venv\\Scripts\\python.exe -m pip install --upgrade pip' command.\n"
     ]
    },
    {
     "name": "stdout",
     "output_type": "stream",
     "text": [
      "Requirement already satisfied: scikit_learn==1.0.2 in c:\\users\\gf\\pycharmprojects\\pythonproject1\\venv\\lib\\site-packages (1.0.2)\n",
      "Requirement already satisfied: numpy>=1.14.6 in c:\\users\\gf\\pycharmprojects\\pythonproject1\\venv\\lib\\site-packages (from scikit_learn==1.0.2) (1.19.5)\n",
      "Requirement already satisfied: scipy>=1.1.0 in c:\\users\\gf\\pycharmprojects\\pythonproject1\\venv\\lib\\site-packages (from scikit_learn==1.0.2) (1.6.2)\n",
      "Requirement already satisfied: threadpoolctl>=2.0.0 in c:\\users\\gf\\pycharmprojects\\pythonproject1\\venv\\lib\\site-packages (from scikit_learn==1.0.2) (3.1.0)\n",
      "Requirement already satisfied: joblib>=0.11 in c:\\users\\gf\\pycharmprojects\\pythonproject1\\venv\\lib\\site-packages (from scikit_learn==1.0.2) (1.1.0)\n"
     ]
    },
    {
     "name": "stderr",
     "output_type": "stream",
     "text": [
      "WARNING: You are using pip version 21.3.1; however, version 22.1.2 is available.\n",
      "You should consider upgrading via the 'C:\\Users\\GF\\PycharmProjects\\pythonProject1\\venv\\Scripts\\python.exe -m pip install --upgrade pip' command.\n"
     ]
    },
    {
     "name": "stdout",
     "output_type": "stream",
     "text": [
      "Requirement already satisfied: pyquaternion in c:\\users\\gf\\pycharmprojects\\pythonproject1\\venv\\lib\\site-packages (0.9.9)"
     ]
    },
    {
     "name": "stderr",
     "output_type": "stream",
     "text": [
      "WARNING: You are using pip version 21.3.1; however, version 22.1.2 is available.\n",
      "You should consider upgrading via the 'C:\\Users\\GF\\PycharmProjects\\pythonProject1\\venv\\Scripts\\python.exe -m pip install --upgrade pip' command.\n"
     ]
    },
    {
     "name": "stdout",
     "output_type": "stream",
     "text": [
      "\n",
      "Requirement already satisfied: uncertainty-wizard in c:\\users\\gf\\pycharmprojects\\pythonproject1\\venv\\lib\\site-packages (0.2.0)\n",
      "Collecting pymoo==0.4\n",
      "  Using cached pymoo-0.4.0-py3-none-any.whl\n",
      "Requirement already satisfied: plot-keras-history in c:\\users\\gf\\pycharmprojects\\pythonproject1\\venv\\lib\\site-packages (1.1.29)\n",
      "Requirement already satisfied: cleverhans in c:\\users\\gf\\pycharmprojects\\pythonproject1\\venv\\lib\\site-packages (4.0.0)\n",
      "Requirement already satisfied: matplotlib>=3 in c:\\users\\gf\\pycharmprojects\\pythonproject1\\venv\\lib\\site-packages (from pymoo==0.4) (3.3.4)\n",
      "Requirement already satisfied: numpy>=1.15 in c:\\users\\gf\\pycharmprojects\\pythonproject1\\venv\\lib\\site-packages (from pymoo==0.4) (1.19.5)\n",
      "Requirement already satisfied: scipy>=1.1 in c:\\users\\gf\\pycharmprojects\\pythonproject1\\venv\\lib\\site-packages (from pymoo==0.4) (1.6.2)\n",
      "Requirement already satisfied: autograd>=1.3 in c:\\users\\gf\\pycharmprojects\\pythonproject1\\venv\\lib\\site-packages (from pymoo==0.4) (1.4)\n",
      "Requirement already satisfied: cma==2.7 in c:\\users\\gf\\pycharmprojects\\pythonproject1\\venv\\lib\\site-packages (from pymoo==0.4) (2.7.0)\n",
      "Requirement already satisfied: pandas in c:\\users\\gf\\pycharmprojects\\pythonproject1\\venv\\lib\\site-packages (from plot-keras-history) (1.4.0)\n",
      "Requirement already satisfied: sanitize-ml-labels in c:\\users\\gf\\pycharmprojects\\pythonproject1\\venv\\lib\\site-packages (from plot-keras-history) (1.0.43)\n",
      "Requirement already satisfied: pycodestyle in c:\\users\\gf\\pycharmprojects\\pythonproject1\\venv\\lib\\site-packages (from cleverhans) (2.8.0)\n",
      "Requirement already satisfied: tensorflow-probability in c:\\users\\gf\\pycharmprojects\\pythonproject1\\venv\\lib\\site-packages (from cleverhans) (0.17.0)\n",
      "Requirement already satisfied: joblib in c:\\users\\gf\\pycharmprojects\\pythonproject1\\venv\\lib\\site-packages (from cleverhans) (1.1.0)\n",
      "Requirement already satisfied: absl-py in c:\\users\\gf\\pycharmprojects\\pythonproject1\\venv\\lib\\site-packages (from cleverhans) (1.1.0)\n",
      "Requirement already satisfied: mnist in c:\\users\\gf\\pycharmprojects\\pythonproject1\\venv\\lib\\site-packages (from cleverhans) (0.2.2)\n",
      "Requirement already satisfied: nose in c:\\users\\gf\\pycharmprojects\\pythonproject1\\venv\\lib\\site-packages (from cleverhans) (1.3.7)\n",
      "Requirement already satisfied: six in c:\\users\\gf\\pycharmprojects\\pythonproject1\\venv\\lib\\site-packages (from cleverhans) (1.16.0)\n",
      "Requirement already satisfied: easydict in c:\\users\\gf\\pycharmprojects\\pythonproject1\\venv\\lib\\site-packages (from cleverhans) (1.9)\n",
      "Requirement already satisfied: future>=0.15.2 in c:\\users\\gf\\pycharmprojects\\pythonproject1\\venv\\lib\\site-packages (from autograd>=1.3->pymoo==0.4) (0.18.2)\n",
      "Requirement already satisfied: cycler>=0.10 in c:\\users\\gf\\pycharmprojects\\pythonproject1\\venv\\lib\\site-packages (from matplotlib>=3->pymoo==0.4) (0.11.0)\n",
      "Requirement already satisfied: pyparsing!=2.0.4,!=2.1.2,!=2.1.6,>=2.0.3 in c:\\users\\gf\\pycharmprojects\\pythonproject1\\venv\\lib\\site-packages (from matplotlib>=3->pymoo==0.4) (3.0.9)\n",
      "Requirement already satisfied: kiwisolver>=1.0.1 in c:\\users\\gf\\pycharmprojects\\pythonproject1\\venv\\lib\\site-packages (from matplotlib>=3->pymoo==0.4) (1.4.3)\n",
      "Requirement already satisfied: python-dateutil>=2.1 in c:\\users\\gf\\pycharmprojects\\pythonproject1\\venv\\lib\\site-packages (from matplotlib>=3->pymoo==0.4) (2.8.2)\n",
      "Requirement already satisfied: pillow>=6.2.0 in c:\\users\\gf\\pycharmprojects\\pythonproject1\\venv\\lib\\site-packages (from matplotlib>=3->pymoo==0.4) (9.2.0)\n",
      "Requirement already satisfied: pytz>=2020.1 in c:\\users\\gf\\pycharmprojects\\pythonproject1\\venv\\lib\\site-packages (from pandas->plot-keras-history) (2022.1)\n",
      "Requirement already satisfied: compress-json in c:\\users\\gf\\pycharmprojects\\pythonproject1\\venv\\lib\\site-packages (from sanitize-ml-labels->plot-keras-history) (1.0.7)\n",
      "Requirement already satisfied: gast>=0.3.2 in c:\\users\\gf\\pycharmprojects\\pythonproject1\\venv\\lib\\site-packages (from tensorflow-probability->cleverhans) (0.4.0)\n",
      "Requirement already satisfied: cloudpickle>=1.3 in c:\\users\\gf\\pycharmprojects\\pythonproject1\\venv\\lib\\site-packages (from tensorflow-probability->cleverhans) (2.1.0)\n",
      "Requirement already satisfied: decorator in c:\\users\\gf\\pycharmprojects\\pythonproject1\\venv\\lib\\site-packages (from tensorflow-probability->cleverhans) (5.1.1)\n",
      "Requirement already satisfied: dm-tree in c:\\users\\gf\\pycharmprojects\\pythonproject1\\venv\\lib\\site-packages (from tensorflow-probability->cleverhans) (0.1.7)\n",
      "Installing collected packages: pymoo\n",
      "  Attempting uninstall: pymoo\n",
      "    Found existing installation: pymoo 0.4.2.2\n",
      "    Uninstalling pymoo-0.4.2.2:\n",
      "      Successfully uninstalled pymoo-0.4.2.2\n",
      "Successfully installed pymoo-0.4.0\n",
      "Requirement already satisfied: tqdm in c:\\users\\gf\\pycharmprojects\\pythonproject1\\venv\\lib\\site-packages (4.62.3)\n",
      "Requirement already satisfied: colorama in c:\\users\\gf\\pycharmprojects\\pythonproject1\\venv\\lib\\site-packages (from tqdm) (0.4.5)\n"
     ]
    },
    {
     "name": "stderr",
     "output_type": "stream",
     "text": [
      "WARNING: You are using pip version 21.3.1; however, version 22.1.2 is available.\n",
      "You should consider upgrading via the 'C:\\Users\\GF\\PycharmProjects\\pythonProject1\\venv\\Scripts\\python.exe -m pip install --upgrade pip' command.\n"
     ]
    }
   ],
   "source": [
    "!pip install -U uncertainty_wizard==0.2.0\n",
    "!pip install -U seaborn==0.11.2\n",
    "!pip install -U pymoo==0.4.2.2\n",
    "!pip install -U tqdm==4.62.3\n",
    "!pip install -U matplotlib==3.3.4\n",
    "!pip install -U plot_keras_history==1.1.29\n",
    "!pip install -U numpy==1.19.5\n",
    "!pip install -U cleverhans==4.0.0\n",
    "!pip install -U pandas_stubs==1.2.0.35\n",
    "!pip install -U pandas==1.4.0\n",
    "!pip install -U scikit_learn==1.0.2\n",
    "!pip install pyquaternion uncertainty-wizard pymoo==0.4 plot-keras-history cleverhans\n",
    "!pip install tqdm"
   ],
   "metadata": {
    "collapsed": false,
    "pycharm": {
     "name": "#%%\n"
    }
   }
  },
  {
   "cell_type": "code",
   "execution_count": null,
   "outputs": [],
   "source": [],
   "metadata": {
    "collapsed": false,
    "pycharm": {
     "name": "#%%\n"
    }
   }
  }
 ],
 "metadata": {
  "kernelspec": {
   "display_name": "Python 3",
   "language": "python",
   "name": "python3"
  },
  "language_info": {
   "codemirror_mode": {
    "name": "ipython",
    "version": 2
   },
   "file_extension": ".py",
   "mimetype": "text/x-python",
   "name": "python",
   "nbconvert_exporter": "python",
   "pygments_lexer": "ipython2",
   "version": "2.7.6"
  }
 },
 "nbformat": 4,
 "nbformat_minor": 0
}